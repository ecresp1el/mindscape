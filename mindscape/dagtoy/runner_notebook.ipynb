{
 "cells": [
  {
   "cell_type": "code",
   "execution_count": null,
   "id": "8373cf29",
   "metadata": {},
   "outputs": [
    {
     "name": "stdout",
     "output_type": "stream",
     "text": [
      "✅ Project created at mindscape/dagtoy/TestDAGRun-Manny-2025-06-04\n"
     ]
    }
   ],
   "source": [
    "from mindscape.dagtoy.create_project.new import create_new_project\n",
    "import sys \n",
    "import yaml\n",
    "\n",
    "\n",
    "# Create the test project\n",
    "project_path, config_path = create_new_project(\n",
    "    base_dir=\"mindscape/dagtoy\", project_name=\"TestDAGRun\", experimenter=\"Manny\"\n",
    ")"
   ]
  },
  {
   "cell_type": "code",
   "execution_count": 3,
   "id": "0716ed6e",
   "metadata": {},
   "outputs": [],
   "source": [
    "config_path = \"mindscape/dagtoy/TestDAGRun-Manny-2025-06-04/config/config.yaml\""
   ]
  },
  {
   "cell_type": "code",
   "execution_count": null,
   "id": "bc4d0125",
   "metadata": {},
   "outputs": [
    {
     "name": "stdout",
     "output_type": "stream",
     "text": [
      "📂 Loaded config from: mindscape/dagtoy/TestDAGRun-Manny-2025-06-04/config/config.yaml\n",
      "📁 Project directory: /Users/ecrespo/Documents/github_project_folder/mindscape/mindscape/dagtoy/mindscape/dagtoy/TestDAGRun-Manny-2025-06-04\n",
      "🗂️  Logs directory:    /Users/ecrespo/Documents/github_project_folder/mindscape/mindscape/dagtoy/mindscape/dagtoy/TestDAGRun-Manny-2025-06-04/logs\n"
     ]
    }
   ],
   "source": [
    "with open(config_path, \"r\") as f:\n",
    "    config = yaml.safe_load(f)\n",
    "\n",
    "project_path = Path(config[\"project_path\"])\n",
    "logs_dir = project_path / \"logs\"\n",
    "\n",
    "print(f\"📂 Loaded config from: {config_path}\")\n",
    "print(f\"📁 Project directory: {project_path}\")\n",
    "print(f\"🗂️  Logs directory:    {logs_dir}\")"
   ]
  },
  {
   "cell_type": "code",
   "execution_count": 9,
   "id": "dcb25522",
   "metadata": {},
   "outputs": [
    {
     "name": "stdout",
     "output_type": "stream",
     "text": [
      "🔍 Checking logs in: /Users/ecrespo/Documents/github_project_folder/mindscape/mindscape/dagtoy/mindscape/dagtoy/TestDAGRun-Manny-2025-06-04/config/logs\n",
      "\n",
      "DataImportWorkflow                  ❌ Error: No module named 'mindscape.dagtoy.workflows.dataimport'\n",
      "AlignmentAndMoleculeCountingWorkflow ❌ Error: No module named 'mindscape.dagtoy.workflows.alignmentandmoleculecounting'\n",
      "CellFilteringWorkflow               ❌ Error: No module named 'mindscape.dagtoy.workflows.cellfiltering'\n",
      "DoubletScoringWorkflow              ❌ Error: No module named 'mindscape.dagtoy.workflows.doubletscoring'\n",
      "CellSizeEstimationWorkflow          ❌ Error: No module named 'mindscape.dagtoy.workflows.cellsizeestimation'\n",
      "GeneVarianceAnalysisWorkflow        ❌ Error: No module named 'mindscape.dagtoy.workflows.genevarianceanalysis'\n",
      "ManifoldRepresentationWorkflow      ❌ Error: No module named 'mindscape.dagtoy.workflows.manifoldrepresentation'\n",
      "ClusteringAndDEWorkflow             ❌ Error: No module named 'mindscape.dagtoy.workflows.clusteringandde'\n",
      "TrajectoryInferenceWorkflow         ❌ Error: No module named 'mindscape.dagtoy.workflows.trajectoryinference'\n",
      "VelocityEstimationWorkflow          ❌ Error: No module named 'mindscape.dagtoy.workflows.velocityestimation'\n",
      "CellTypeAnnotationWorkflow          ❌ Error: No module named 'mindscape.dagtoy.workflows.celltypeannotation'\n",
      "IntegrationWorkflow                 ❌ Error: name 'meta_hash' is not defined\n",
      "MultiOmicsIntegrationWorkflow       ❌ Error: No module named 'mindscape.dagtoy.workflows.multiomicsintegration'\n"
     ]
    }
   ],
   "source": [
    "# check all workflow and status\n",
    "from mindscape.dagtoy.base_workflow import BaseWorkflow\n",
    "from pathlib import Path\n",
    "import yaml\n",
    "import importlib\n",
    "\n",
    "\n",
    "project_path = Path(config_path).resolve().parent\n",
    "logs_dir = project_path / \"logs\"\n",
    "\n",
    "print(f\"🔍 Checking logs in: {logs_dir}\\n\")\n",
    "\n",
    "workflow_names = [wf[\"name\"] for wf in config[\"workflows\"] if wf.get(\"enabled\", True)]\n",
    "\n",
    "for wf_name in workflow_names:\n",
    "    try:\n",
    "        module_name = f\"mindscape.dagtoy.workflows.{wf_name.removesuffix('Workflow')}\".lower()\n",
    "        module = importlib.import_module(module_name)\n",
    "        klass = getattr(module, wf_name)\n",
    "        instance = klass(config_path=config_path, meta_hash=meta_hash)\n",
    "        status = instance.get_status()\n",
    "        print(f\"{wf_name:<35} ➜  Status: {status}\")\n",
    "    except Exception as e:\n",
    "        print(f\"{wf_name:<35} ❌ Error: {e}\")"
   ]
  },
  {
   "cell_type": "code",
   "execution_count": null,
   "id": "624b36df",
   "metadata": {},
   "outputs": [],
   "source": []
  }
 ],
 "metadata": {
  "kernelspec": {
   "display_name": "mindscape-env",
   "language": "python",
   "name": "python3"
  },
  "language_info": {
   "codemirror_mode": {
    "name": "ipython",
    "version": 3
   },
   "file_extension": ".py",
   "mimetype": "text/x-python",
   "name": "python",
   "nbconvert_exporter": "python",
   "pygments_lexer": "ipython3",
   "version": "3.11.12"
  }
 },
 "nbformat": 4,
 "nbformat_minor": 5
}
